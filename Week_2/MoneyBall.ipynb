{
 "cells": [
  {
   "cell_type": "code",
   "execution_count": 3,
   "metadata": {},
   "outputs": [],
   "source": [
    "import numpy as np   \n",
    "import statsmodels.api as sm\n",
    "from sklearn.model_selection import KFold\n",
    "from matplotlib import pyplot as plt\n",
    "import pandas as pd\n",
    "import seaborn as sns\n",
    "from itertools import combinations\n",
    "from math import factorial\n",
    "\n",
    "plt.style.use('ggplot')"
   ]
  },
  {
   "cell_type": "code",
   "execution_count": 83,
   "metadata": {},
   "outputs": [],
   "source": [
    "fifa_df = pd.read_csv(\"fifadata.csv\")"
   ]
  },
  {
   "cell_type": "code",
   "execution_count": 60,
   "metadata": {},
   "outputs": [
    {
     "name": "stdout",
     "output_type": "stream",
     "text": [
      "   Unnamed: 0      ID               Name  Age  \\\n",
      "0           0  158023           L. Messi   31   \n",
      "1           1   20801  Cristiano Ronaldo   33   \n",
      "2           2  190871          Neymar Jr   26   \n",
      "3           3  193080             De Gea   27   \n",
      "4           4  192985       K. De Bruyne   27   \n",
      "5           5  183277          E. Hazard   27   \n",
      "6           6  177003          L. Modrić   32   \n",
      "7           7  176580          L. Suárez   31   \n",
      "8           8  155862       Sergio Ramos   32   \n",
      "9           9  200389           J. Oblak   25   \n",
      "\n",
      "                                            Photo Nationality  \\\n",
      "0  https://cdn.sofifa.org/players/4/19/158023.png   Argentina   \n",
      "1   https://cdn.sofifa.org/players/4/19/20801.png    Portugal   \n",
      "2  https://cdn.sofifa.org/players/4/19/190871.png      Brazil   \n",
      "3  https://cdn.sofifa.org/players/4/19/193080.png       Spain   \n",
      "4  https://cdn.sofifa.org/players/4/19/192985.png     Belgium   \n",
      "5  https://cdn.sofifa.org/players/4/19/183277.png     Belgium   \n",
      "6  https://cdn.sofifa.org/players/4/19/177003.png     Croatia   \n",
      "7  https://cdn.sofifa.org/players/4/19/176580.png     Uruguay   \n",
      "8  https://cdn.sofifa.org/players/4/19/155862.png       Spain   \n",
      "9  https://cdn.sofifa.org/players/4/19/200389.png    Slovenia   \n",
      "\n",
      "                                  Flag  Overall  Potential  \\\n",
      "0  https://cdn.sofifa.org/flags/52.png       94         94   \n",
      "1  https://cdn.sofifa.org/flags/38.png       94         94   \n",
      "2  https://cdn.sofifa.org/flags/54.png       92         93   \n",
      "3  https://cdn.sofifa.org/flags/45.png       91         93   \n",
      "4   https://cdn.sofifa.org/flags/7.png       91         92   \n",
      "5   https://cdn.sofifa.org/flags/7.png       91         91   \n",
      "6  https://cdn.sofifa.org/flags/10.png       91         91   \n",
      "7  https://cdn.sofifa.org/flags/60.png       91         91   \n",
      "8  https://cdn.sofifa.org/flags/45.png       91         91   \n",
      "9  https://cdn.sofifa.org/flags/44.png       90         93   \n",
      "\n",
      "                  Club  ... Composure Marking StandingTackle  SlidingTackle  \\\n",
      "0         FC Barcelona  ...      96.0    33.0           28.0           26.0   \n",
      "1             Juventus  ...      95.0    28.0           31.0           23.0   \n",
      "2  Paris Saint-Germain  ...      94.0    27.0           24.0           33.0   \n",
      "3    Manchester United  ...      68.0    15.0           21.0           13.0   \n",
      "4      Manchester City  ...      88.0    68.0           58.0           51.0   \n",
      "5              Chelsea  ...      91.0    34.0           27.0           22.0   \n",
      "6          Real Madrid  ...      84.0    60.0           76.0           73.0   \n",
      "7         FC Barcelona  ...      85.0    62.0           45.0           38.0   \n",
      "8          Real Madrid  ...      82.0    87.0           92.0           91.0   \n",
      "9      Atlético Madrid  ...      70.0    27.0           12.0           18.0   \n",
      "\n",
      "  GKDiving  GKHandling  GKKicking  GKPositioning GKReflexes Release Clause  \n",
      "0      6.0        11.0       15.0           14.0        8.0        €226.5M  \n",
      "1      7.0        11.0       15.0           14.0       11.0        €127.1M  \n",
      "2      9.0         9.0       15.0           15.0       11.0        €228.1M  \n",
      "3     90.0        85.0       87.0           88.0       94.0        €138.6M  \n",
      "4     15.0        13.0        5.0           10.0       13.0        €196.4M  \n",
      "5     11.0        12.0        6.0            8.0        8.0        €172.1M  \n",
      "6     13.0         9.0        7.0           14.0        9.0        €137.4M  \n",
      "7     27.0        25.0       31.0           33.0       37.0          €164M  \n",
      "8     11.0         8.0        9.0            7.0       11.0        €104.6M  \n",
      "9     86.0        92.0       78.0           88.0       89.0        €144.5M  \n",
      "\n",
      "[10 rows x 89 columns]\n"
     ]
    }
   ],
   "source": [
    "print(fifa_df.head(10))"
   ]
  },
  {
   "cell_type": "code",
   "execution_count": 61,
   "metadata": {},
   "outputs": [
    {
     "name": "stdout",
     "output_type": "stream",
     "text": [
      "Index(['Unnamed: 0', 'ID', 'Name', 'Age', 'Photo', 'Nationality', 'Flag',\n",
      "       'Overall', 'Potential', 'Club', 'Club Logo', 'Value', 'Wage', 'Special',\n",
      "       'Preferred Foot', 'International Reputation', 'Weak Foot',\n",
      "       'Skill Moves', 'Work Rate', 'Body Type', 'Real Face', 'Position',\n",
      "       'Jersey Number', 'Joined', 'Loaned From', 'Contract Valid Until',\n",
      "       'Height', 'Weight', 'LS', 'ST', 'RS', 'LW', 'LF', 'CF', 'RF', 'RW',\n",
      "       'LAM', 'CAM', 'RAM', 'LM', 'LCM', 'CM', 'RCM', 'RM', 'LWB', 'LDM',\n",
      "       'CDM', 'RDM', 'RWB', 'LB', 'LCB', 'CB', 'RCB', 'RB', 'Crossing',\n",
      "       'Finishing', 'HeadingAccuracy', 'ShortPassing', 'Volleys', 'Dribbling',\n",
      "       'Curve', 'FKAccuracy', 'LongPassing', 'BallControl', 'Acceleration',\n",
      "       'SprintSpeed', 'Agility', 'Reactions', 'Balance', 'ShotPower',\n",
      "       'Jumping', 'Stamina', 'Strength', 'LongShots', 'Aggression',\n",
      "       'Interceptions', 'Positioning', 'Vision', 'Penalties', 'Composure',\n",
      "       'Marking', 'StandingTackle', 'SlidingTackle', 'GKDiving', 'GKHandling',\n",
      "       'GKKicking', 'GKPositioning', 'GKReflexes', 'Release Clause'],\n",
      "      dtype='object')\n"
     ]
    }
   ],
   "source": [
    "print(fifa_df.columns)"
   ]
  },
  {
   "cell_type": "code",
   "execution_count": 110,
   "metadata": {},
   "outputs": [],
   "source": [
    "features = ['Acceleration','SprintSpeed','Agility', 'Stamina','Strength', 'Height', 'Finishing']\n",
    "target = 'Value'"
   ]
  },
  {
   "cell_type": "code",
   "execution_count": 84,
   "metadata": {},
   "outputs": [
    {
     "name": "stdout",
     "output_type": "stream",
     "text": [
      "0         5'7\n",
      "1         6'2\n",
      "2         5'9\n",
      "3         6'4\n",
      "4        5'11\n",
      "         ... \n",
      "18202     5'9\n",
      "18203     6'3\n",
      "18204     5'8\n",
      "18205    5'10\n",
      "18206    5'10\n",
      "Name: Height, Length: 18159, dtype: object\n",
      "0        67\n",
      "1        74\n",
      "2        69\n",
      "3        76\n",
      "4        71\n",
      "         ..\n",
      "18202    69\n",
      "18203    75\n",
      "18204    68\n",
      "18205    70\n",
      "18206    70\n",
      "Name: Height, Length: 18159, dtype: int64\n",
      "0        159lbs\n",
      "1        183lbs\n",
      "2        150lbs\n",
      "3        168lbs\n",
      "4        154lbs\n",
      "          ...  \n",
      "18202    134lbs\n",
      "18203    170lbs\n",
      "18204    148lbs\n",
      "18205    154lbs\n",
      "18206    176lbs\n",
      "Name: Weight, Length: 18159, dtype: object\n",
      "0        159\n",
      "1        183\n",
      "2        150\n",
      "3        168\n",
      "4        154\n",
      "        ... \n",
      "18202    134\n",
      "18203    170\n",
      "18204    148\n",
      "18205    154\n",
      "18206    176\n",
      "Name: Weight, Length: 18159, dtype: int64\n",
      "0        €110.5M\n",
      "1           €77M\n",
      "2        €118.5M\n",
      "3           €72M\n",
      "4          €102M\n",
      "          ...   \n",
      "18202       €60K\n",
      "18203       €60K\n",
      "18204       €60K\n",
      "18205       €60K\n",
      "18206       €60K\n",
      "Name: Value, Length: 18159, dtype: object\n",
      "0        110500.0\n",
      "1         77000.0\n",
      "2        118500.0\n",
      "3         72000.0\n",
      "4        102000.0\n",
      "           ...   \n",
      "18202        60.0\n",
      "18203        60.0\n",
      "18204        60.0\n",
      "18205        60.0\n",
      "18206        60.0\n",
      "Name: Value, Length: 18159, dtype: float64\n"
     ]
    }
   ],
   "source": [
    "'''\n",
    "Helper Functions to clean the data:\n",
    "'''\n",
    "def height_to_inches(h):\n",
    "  if type(h) is str:\n",
    "    hsplit = h.split(\"'\")   # splits a string like 5'7 and returns the total inches\n",
    "    feet = int(hsplit[0])\n",
    "    inches = int(hsplit[1])\n",
    "    return feet*12 + inches\n",
    "  else:\n",
    "    return h\n",
    "\n",
    "def clean_weight(w):\n",
    "  if type(w) is str:\n",
    "    wnew = int(w.replace(\"lbs\",\"\"))\n",
    "    return wnew\n",
    "  else:\n",
    "    return w\n",
    "\n",
    "def clean_price(c):\n",
    "  if type(c) is str:\n",
    "    ismillion = False\n",
    "    if \"M\" in c:\n",
    "      ismillion = True\n",
    "    cnew = float(c.replace(\"€\", \"\").replace(\"M\", \"\").replace(\"K\", \"\"))\n",
    "    if ismillion:\n",
    "      cnew *= 1000\n",
    "    return cnew\n",
    "  else:\n",
    "    return c\n",
    "\n",
    "# Actually clean up the dataset:\n",
    "\n",
    "all_cols = [i for i in features]\n",
    "all_cols.append(target)\n",
    "cols_to_keep = [not i for i in fifa_df[all_cols].isna().any(axis=1)]\n",
    "fifa_df = fifa_df[cols_to_keep]\n",
    "\n",
    "print(fifa_df['Height'])\n",
    "fifa_df['Height'] = fifa_df['Height'].apply(height_to_inches)\n",
    "fifa_df['Height'].astype('int')\n",
    "print(fifa_df['Height'])\n",
    "\n",
    "print(fifa_df['Weight'])\n",
    "fifa_df['Weight'] = fifa_df['Weight'].apply(clean_weight)\n",
    "fifa_df['Weight'].astype('int')\n",
    "print(fifa_df['Weight'])\n",
    "\n",
    "# Ive commented these out as per the description from the code where we set\n",
    "# the features above\n",
    "'''\n",
    "print(fifa_df['Value'])\n",
    "fifa_df['Value'] = fifa_df['Value'].apply(clean_price)\n",
    "fifa_df['Value'].astype('int')\n",
    "print(fifa_df['Value'])\n",
    "\n",
    "print(fifa_df['Release Clause'])\n",
    "fifa_df['Release Clause'] = fifa_df['Release Clause'].apply(clean_price)\n",
    "fifa_df['Release Clause'].astype('int')\n",
    "print(fifa_df['Release Clause'])\n",
    "'''\n",
    "\n",
    "# Applying cleanup to the target as well\n",
    "print(fifa_df['Value'])\n",
    "fifa_df['Value'] = fifa_df['Value'].apply(clean_price)\n",
    "fifa_df['Value'].astype('int')\n",
    "print(fifa_df['Value'])"
   ]
  },
  {
   "cell_type": "code",
   "execution_count": 97,
   "metadata": {},
   "outputs": [],
   "source": [
    "X = fifa_df[features]\n",
    "Y = fifa_df[target]"
   ]
  },
  {
   "cell_type": "code",
   "execution_count": 24,
   "metadata": {},
   "outputs": [],
   "source": [
    "X = fifa_df['SprintSpeed']"
   ]
  },
  {
   "cell_type": "code",
   "execution_count": 98,
   "metadata": {},
   "outputs": [
    {
     "name": "stdout",
     "output_type": "stream",
     "text": [
      "                            OLS Regression Results                            \n",
      "==============================================================================\n",
      "Dep. Variable:                  Value   R-squared:                       0.153\n",
      "Model:                            OLS   Adj. R-squared:                  0.072\n",
      "Method:                 Least Squares   F-statistic:                     1.893\n",
      "Date:                Sun, 23 Feb 2020   Prob (F-statistic):             0.0958\n",
      "Time:                        13:04:50   Log-Likelihood:                -689.58\n",
      "No. Observations:                  70   AIC:                             1393.\n",
      "Df Residuals:                      63   BIC:                             1409.\n",
      "Df Model:                           6                                         \n",
      "Covariance Type:            nonrobust                                         \n",
      "================================================================================\n",
      "                   coef    std err          t      P>|t|      [0.025      0.975]\n",
      "--------------------------------------------------------------------------------\n",
      "const         6085.2851   3.57e+04      0.170      0.865   -6.53e+04    7.75e+04\n",
      "Acceleration  -113.4099    226.551     -0.501      0.618    -566.135     339.315\n",
      "SprintSpeed   -231.5578    222.499     -1.041      0.302    -676.186     213.070\n",
      "Agility        209.5313     99.327      2.110      0.039      11.043     408.020\n",
      "Stamina        134.7636     74.015      1.821      0.073     -13.144     282.671\n",
      "Strength        57.6520    153.160      0.376      0.708    -248.413     363.717\n",
      "Height         -26.8234    336.611     -0.080      0.937    -699.486     645.840\n",
      "==============================================================================\n",
      "Omnibus:                       20.856   Durbin-Watson:                   0.467\n",
      "Prob(Omnibus):                  0.000   Jarque-Bera (JB):               26.708\n",
      "Skew:                           1.363   Prob(JB):                     1.59e-06\n",
      "Kurtosis:                       4.314   Cond. No.                     1.18e+04\n",
      "==============================================================================\n",
      "\n",
      "Warnings:\n",
      "[1] Standard Errors assume that the covariance matrix of the errors is correctly specified.\n",
      "[2] The condition number is large, 1.18e+04. This might indicate that there are\n",
      "strong multicollinearity or other numerical problems.\n"
     ]
    }
   ],
   "source": [
    "X = sm.add_constant(X)\n",
    "model = sm.OLS(Y, X)\n",
    "results = model.fit()\n",
    "print(results.summary())"
   ]
  },
  {
   "cell_type": "code",
   "execution_count": 101,
   "metadata": {},
   "outputs": [
    {
     "name": "stdout",
     "output_type": "stream",
     "text": [
      "Residuals: \n",
      "381      14050.874963\n",
      "479      11259.419680\n",
      "518       9956.816079\n",
      "560      11678.054731\n",
      "561      10666.122340\n",
      "             ...     \n",
      "15265     -940.040703\n",
      "15783    -3056.438040\n",
      "16379    -5093.090474\n",
      "16963    -1893.122437\n",
      "17735    -1449.686212\n",
      "Length: 70, dtype: float64\n",
      "\n",
      "\n"
     ]
    },
    {
     "data": {
      "text/plain": [
       "<matplotlib.lines.Line2D at 0x25ae70f7c88>"
      ]
     },
     "execution_count": 101,
     "metadata": {},
     "output_type": "execute_result"
    },
    {
     "data": {
      "image/png": "[encoded data removed]",
      "text/plain": [
       "<Figure size 1440x720 with 1 Axes>"
      ]
     },
     "metadata": {},
     "output_type": "display_data"
    }
   ],
   "source": [
    "residuals = results.resid\n",
    "print('Residuals: \\n' + str(residuals) + '\\n\\n')\n",
    "\n",
    "fig, ax = plt.subplots(figsize=(20,10))\n",
    "plt.scatter(fifa_df['Value'], residuals, color='red', alpha=0.5)\n",
    "plt.xlabel('Value')\n",
    "plt.ylabel('Residuals')\n",
    "plt.axhline(y=0, color='b', linestyle='-')"
   ]
  },
  {
   "cell_type": "code",
   "execution_count": null,
   "metadata": {},
   "outputs": [],
   "source": [
    "#Code Block, what variable could sprint speed predict?"
   ]
  },
  {
   "cell_type": "code",
   "execution_count": 112,
   "metadata": {},
   "outputs": [],
   "source": [
    "X = fifa_df[features]\n",
    "Y = fifa_df[target]"
   ]
  },
  {
   "cell_type": "code",
   "execution_count": 113,
   "metadata": {},
   "outputs": [
    {
     "name": "stdout",
     "output_type": "stream",
     "text": [
      "                            OLS Regression Results                            \n",
      "==============================================================================\n",
      "Dep. Variable:                  Value   R-squared:                       0.817\n",
      "Model:                            OLS   Adj. R-squared:                  0.792\n",
      "Method:                 Least Squares   F-statistic:                     33.06\n",
      "Date:                Sun, 23 Feb 2020   Prob (F-statistic):           5.33e-17\n",
      "Time:                        13:09:15   Log-Likelihood:                -546.88\n",
      "No. Observations:                  60   AIC:                             1110.\n",
      "Df Residuals:                      52   BIC:                             1127.\n",
      "Df Model:                           7                                         \n",
      "Covariance Type:            nonrobust                                         \n",
      "================================================================================\n",
      "                   coef    std err          t      P>|t|      [0.025      0.975]\n",
      "--------------------------------------------------------------------------------\n",
      "const        -9.625e+04   1.96e+04     -4.905      0.000   -1.36e+05   -5.69e+04\n",
      "Acceleration    34.2284    121.090      0.283      0.779    -208.757     277.214\n",
      "SprintSpeed    248.9231    119.075      2.090      0.041       9.981     487.865\n",
      "Agility         67.3557     54.559      1.235      0.223     -42.125     176.836\n",
      "Stamina        -25.9300     41.105     -0.631      0.531    -108.413      56.552\n",
      "Strength        89.7238     78.408      1.144      0.258     -67.613     247.060\n",
      "Height         209.6901    175.660      1.194      0.238    -142.798     562.178\n",
      "Finishing      741.3270     54.411     13.624      0.000     632.142     850.512\n",
      "==============================================================================\n",
      "Omnibus:                        3.947   Durbin-Watson:                   1.014\n",
      "Prob(Omnibus):                  0.139   Jarque-Bera (JB):                3.054\n",
      "Skew:                           0.520   Prob(JB):                        0.217\n",
      "Kurtosis:                       3.375   Cond. No.                     1.31e+04\n",
      "==============================================================================\n",
      "\n",
      "Warnings:\n",
      "[1] Standard Errors assume that the covariance matrix of the errors is correctly specified.\n",
      "[2] The condition number is large, 1.31e+04. This might indicate that there are\n",
      "strong multicollinearity or other numerical problems.\n"
     ]
    }
   ],
   "source": [
    "X = sm.add_constant(X)\n",
    "model = sm.OLS(Y, X)\n",
    "results = model.fit()\n",
    "print(results.summary())"
   ]
  },
  {
   "cell_type": "code",
   "execution_count": 124,
   "metadata": {},
   "outputs": [
    {
     "name": "stdout",
     "output_type": "stream",
     "text": [
      "Residuals: \n",
      "381      2927.750044\n",
      "479      5165.060958\n",
      "518      3207.857518\n",
      "560      6746.526598\n",
      "561      4431.616653\n",
      "653       352.178828\n",
      "1022      744.901246\n",
      "1216     -120.521120\n",
      "1226    -1552.925405\n",
      "1237     1322.987841\n",
      "1347      213.285640\n",
      "1386      -89.598507\n",
      "1404     -650.867056\n",
      "1507    -3539.267842\n",
      "2023    -2273.140152\n",
      "2029     -398.292083\n",
      "2253    -1291.797901\n",
      "2508     -793.342945\n",
      "2936      389.599994\n",
      "3210    -3046.820430\n",
      "3231      817.724377\n",
      "3388     1057.389143\n",
      "3468     -276.940398\n",
      "3586     2490.556440\n",
      "3665    -1445.007706\n",
      "4436     -257.432704\n",
      "4519    -3109.352470\n",
      "4970       -8.456744\n",
      "5171    -2435.955772\n",
      "5418    -1155.724081\n",
      "5513     2492.241562\n",
      "5523    -3712.591553\n",
      "5598     -131.167195\n",
      "5653    -2831.825866\n",
      "5853    -3568.912205\n",
      "5879    -1336.329920\n",
      "6033    -3136.246270\n",
      "6143    -2303.489850\n",
      "6272    -1157.855342\n",
      "6334    -3470.520876\n",
      "6483       46.126115\n",
      "7204     1309.549619\n",
      "7371    -1077.922869\n",
      "7546    -1620.469318\n",
      "7598    -1026.996267\n",
      "8215     1626.753480\n",
      "8452      479.592763\n",
      "8648    -2227.125438\n",
      "8658    -1072.295640\n",
      "9739      336.671578\n",
      "10005     163.872424\n",
      "10134    1625.131076\n",
      "10434    1320.308729\n",
      "10491    -217.267349\n",
      "10861    2762.906166\n",
      "11201    2363.208700\n",
      "11207    1134.939266\n",
      "13035    1700.464710\n",
      "13705    1634.408095\n",
      "14165    2472.849714\n",
      "dtype: float64\n",
      "\n",
      "\n"
     ]
    },
    {
     "data": {
      "text/plain": [
       "<matplotlib.lines.Line2D at 0x25ae4e0f288>"
      ]
     },
     "execution_count": 124,
     "metadata": {},
     "output_type": "execute_result"
    },
    {
     "data": {
      "image/png": "[encoded data removed]",
      "text/plain": [
       "<Figure size 1440x720 with 1 Axes>"
      ]
     },
     "metadata": {},
     "output_type": "display_data"
    }
   ],
   "source": [
    "residuals = results.resid\n",
    "print('Residuals: \\n' + str(residuals) + '\\n\\n')\n",
    "fig, ax = plt.subplots(figsize=(20,10))\n",
    "plt.scatter(fifa_df['Value'], residuals, color='red', alpha=0.5)\n",
    "plt.xlabel('Value')\n",
    "plt.ylabel('Residuals')\n",
    "plt.axhline(y=0, color='b', linestyle='-')"
   ]
  },
  {
   "cell_type": "code",
   "execution_count": 125,
   "metadata": {},
   "outputs": [],
   "source": [
    "residuals = pd.DataFrame(data = residuals)\n",
    "residuals = residuals[residuals < -2000]"
   ]
  },
  {
   "cell_type": "code",
   "execution_count": 138,
   "metadata": {},
   "outputs": [],
   "source": [
    "m = residuals.dropna()"
   ]
  },
  {
   "cell_type": "code",
   "execution_count": 90,
   "metadata": {},
   "outputs": [
    {
     "data": {
      "text/plain": [
       "87       45000.0\n",
       "124      42000.0\n",
       "193      30500.0\n",
       "268      26000.0\n",
       "381      18500.0\n",
       "          ...   \n",
       "15265      425.0\n",
       "15783      210.0\n",
       "16379      150.0\n",
       "16963      180.0\n",
       "17735      100.0\n",
       "Name: Value, Length: 75, dtype: float64"
      ]
     },
     "execution_count": 90,
     "metadata": {},
     "output_type": "execute_result"
    }
   ],
   "source": [
    "fifa_df['Value']"
   ]
  },
  {
   "cell_type": "code",
   "execution_count": 111,
   "metadata": {},
   "outputs": [],
   "source": [
    "fifa_df = fifa_df[fifa_df['SprintSpeed'] > 80]\n",
    "fifa_df = fifa_df[fifa_df['Acceleration'] > 80]\n",
    "fifa_df = fifa_df[fifa_df['Strength'] > 70]\n",
    "fifa_df = fifa_df[fifa_df['Value'] < 50000]\n",
    "fifa_df = fifa_df[fifa_df['Finishing'] > 60]"
   ]
  },
  {
   "cell_type": "code",
   "execution_count": 79,
   "metadata": {},
   "outputs": [],
   "source": [
    "fifa_df = fifa_df[fifa_df.Position.dropna()]"
   ]
  },
  {
   "cell_type": "code",
   "execution_count": 86,
   "metadata": {},
   "outputs": [],
   "source": [
    "fifa_df = fifa_df[fifa_df['Position'].str.contains('ST', na = False)]"
   ]
  },
  {
   "cell_type": "code",
   "execution_count": 150,
   "metadata": {},
   "outputs": [
    {
     "data": {
      "text/html": [
       "<div>\n",
       "<style scoped>\n",
       "    .dataframe tbody tr th:only-of-type {\n",
       "        vertical-align: middle;\n",
       "    }\n",
       "\n",
       "    .dataframe tbody tr th {\n",
       "        vertical-align: top;\n",
       "    }\n",
       "\n",
       "    .dataframe thead th {\n",
       "        text-align: right;\n",
       "    }\n",
       "</style>\n",
       "<table border=\"1\" class=\"dataframe\">\n",
       "  <thead>\n",
       "    <tr style=\"text-align: right;\">\n",
       "      <th></th>\n",
       "      <th>Unnamed: 0</th>\n",
       "      <th>ID</th>\n",
       "      <th>Name</th>\n",
       "      <th>Age</th>\n",
       "      <th>Photo</th>\n",
       "      <th>Nationality</th>\n",
       "      <th>Flag</th>\n",
       "      <th>Overall</th>\n",
       "      <th>Potential</th>\n",
       "      <th>Club</th>\n",
       "      <th>...</th>\n",
       "      <th>Composure</th>\n",
       "      <th>Marking</th>\n",
       "      <th>StandingTackle</th>\n",
       "      <th>SlidingTackle</th>\n",
       "      <th>GKDiving</th>\n",
       "      <th>GKHandling</th>\n",
       "      <th>GKKicking</th>\n",
       "      <th>GKPositioning</th>\n",
       "      <th>GKReflexes</th>\n",
       "      <th>Release Clause</th>\n",
       "    </tr>\n",
       "  </thead>\n",
       "  <tbody>\n",
       "    <tr>\n",
       "      <td>5853</td>\n",
       "      <td>5853</td>\n",
       "      <td>229949</td>\n",
       "      <td>Anderson Lopes</td>\n",
       "      <td>24</td>\n",
       "      <td>https://cdn.sofifa.org/players/4/19/229949.png</td>\n",
       "      <td>Brazil</td>\n",
       "      <td>https://cdn.sofifa.org/flags/54.png</td>\n",
       "      <td>69</td>\n",
       "      <td>74</td>\n",
       "      <td>FC Seoul</td>\n",
       "      <td>...</td>\n",
       "      <td>65.0</td>\n",
       "      <td>33.0</td>\n",
       "      <td>25.0</td>\n",
       "      <td>19.0</td>\n",
       "      <td>6.0</td>\n",
       "      <td>11.0</td>\n",
       "      <td>14.0</td>\n",
       "      <td>12.0</td>\n",
       "      <td>6.0</td>\n",
       "      <td>€1.9M</td>\n",
       "    </tr>\n",
       "  </tbody>\n",
       "</table>\n",
       "<p>1 rows × 89 columns</p>\n",
       "</div>"
      ],
      "text/plain": [
       "      Unnamed: 0      ID            Name  Age  \\\n",
       "5853        5853  229949  Anderson Lopes   24   \n",
       "\n",
       "                                               Photo Nationality  \\\n",
       "5853  https://cdn.sofifa.org/players/4/19/229949.png      Brazil   \n",
       "\n",
       "                                     Flag  Overall  Potential      Club  ...  \\\n",
       "5853  https://cdn.sofifa.org/flags/54.png       69         74  FC Seoul  ...   \n",
       "\n",
       "     Composure  Marking StandingTackle  SlidingTackle GKDiving  GKHandling  \\\n",
       "5853      65.0     33.0           25.0           19.0      6.0        11.0   \n",
       "\n",
       "      GKKicking  GKPositioning GKReflexes Release Clause  \n",
       "5853       14.0           12.0        6.0          €1.9M  \n",
       "\n",
       "[1 rows x 89 columns]"
      ]
     },
     "execution_count": 150,
     "metadata": {},
     "output_type": "execute_result"
    }
   ],
   "source": [
    "fifa_df[fifa_df['Unnamed: 0'] == 5853]"
   ]
  },
  {
   "cell_type": "code",
   "execution_count": 148,
   "metadata": {},
   "outputs": [
    {
     "data": {
      "text/plain": [
       "1507   -3539.267842\n",
       "2023   -2273.140152\n",
       "3210   -3046.820430\n",
       "4519   -3109.352470\n",
       "5171   -2435.955772\n",
       "5523   -3712.591553\n",
       "5653   -2831.825866\n",
       "5853   -3568.912205\n",
       "6033   -3136.246270\n",
       "6143   -2303.489850\n",
       "6334   -3470.520876\n",
       "8648   -2227.125438\n",
       "Name: 0, dtype: float64"
      ]
     },
     "execution_count": 148,
     "metadata": {},
     "output_type": "execute_result"
    }
   ],
   "source": [
    "m = pd.DataFrame(m)\n",
    "m[0]"
   ]
  }
 ],
 "metadata": {
  "kernelspec": {
   "display_name": "Python 3",
   "language": "python",
   "name": "python3"
  },
  "language_info": {
   "codemirror_mode": {
    "name": "ipython",
    "version": 3
   },
   "file_extension": ".py",
   "mimetype": "text/x-python",
   "name": "python",
   "nbconvert_exporter": "python",
   "pygments_lexer": "ipython3",
   "version": "3.7.4"
  }
 },
 "nbformat": 4,
 "nbformat_minor": 2
}
