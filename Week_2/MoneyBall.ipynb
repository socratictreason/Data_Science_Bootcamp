{
 "cells": [
  {
   "cell_type": "markdown",
   "metadata": {},
   "source": [
    "# Let's Play Moneyball\n",
    "## Welcome to Week 2!\n",
    "\n",
    "This week we'll be exploring the FIFA 2019 dataset, and seeing how we can use one of the most popular algorithms in data science and machine learning - Linear Regression - to make us millions of dollars. Even if sports is not your thing, this is a good lesson in excercising your curiosity. \n",
    "\n",
    "Your task will be to find the variables to predict strikers so our team can hire the best player, without spending too much money. We need to know who is undervalued, who is overvalued, and what variables create a great player. Let's get started!"
   ]
  },
  {
   "cell_type": "code",
   "execution_count": 44,
   "metadata": {},
   "outputs": [],
   "source": [
    "import numpy as np   \n",
    "import statsmodels.api as sm\n",
    "from sklearn.model_selection import KFold\n",
    "from matplotlib import pyplot as plt\n",
    "import pandas as pd\n",
    "import seaborn as sns\n",
    "from itertools import combinations\n",
    "from math import factorial\n",
    "from matplotlib.pyplot import figure\n",
    "plt.style.use('ggplot')"
   ]
  },
  {
   "cell_type": "code",
   "execution_count": 45,
   "metadata": {},
   "outputs": [],
   "source": [
    "fifa_df = pd.read_csv(\"fifadata.csv\")"
   ]
  },
  {
   "cell_type": "code",
   "execution_count": 46,
   "metadata": {},
   "outputs": [
    {
     "name": "stdout",
     "output_type": "stream",
     "text": [
      "   Unnamed: 0      ID               Name  Age  \\\n",
      "0           0  158023           L. Messi   31   \n",
      "1           1   20801  Cristiano Ronaldo   33   \n",
      "2           2  190871          Neymar Jr   26   \n",
      "3           3  193080             De Gea   27   \n",
      "4           4  192985       K. De Bruyne   27   \n",
      "5           5  183277          E. Hazard   27   \n",
      "6           6  177003          L. Modrić   32   \n",
      "7           7  176580          L. Suárez   31   \n",
      "8           8  155862       Sergio Ramos   32   \n",
      "9           9  200389           J. Oblak   25   \n",
      "\n",
      "                                            Photo Nationality  \\\n",
      "0  https://cdn.sofifa.org/players/4/19/158023.png   Argentina   \n",
      "1   https://cdn.sofifa.org/players/4/19/20801.png    Portugal   \n",
      "2  https://cdn.sofifa.org/players/4/19/190871.png      Brazil   \n",
      "3  https://cdn.sofifa.org/players/4/19/193080.png       Spain   \n",
      "4  https://cdn.sofifa.org/players/4/19/192985.png     Belgium   \n",
      "5  https://cdn.sofifa.org/players/4/19/183277.png     Belgium   \n",
      "6  https://cdn.sofifa.org/players/4/19/177003.png     Croatia   \n",
      "7  https://cdn.sofifa.org/players/4/19/176580.png     Uruguay   \n",
      "8  https://cdn.sofifa.org/players/4/19/155862.png       Spain   \n",
      "9  https://cdn.sofifa.org/players/4/19/200389.png    Slovenia   \n",
      "\n",
      "                                  Flag  Overall  Potential  \\\n",
      "0  https://cdn.sofifa.org/flags/52.png       94         94   \n",
      "1  https://cdn.sofifa.org/flags/38.png       94         94   \n",
      "2  https://cdn.sofifa.org/flags/54.png       92         93   \n",
      "3  https://cdn.sofifa.org/flags/45.png       91         93   \n",
      "4   https://cdn.sofifa.org/flags/7.png       91         92   \n",
      "5   https://cdn.sofifa.org/flags/7.png       91         91   \n",
      "6  https://cdn.sofifa.org/flags/10.png       91         91   \n",
      "7  https://cdn.sofifa.org/flags/60.png       91         91   \n",
      "8  https://cdn.sofifa.org/flags/45.png       91         91   \n",
      "9  https://cdn.sofifa.org/flags/44.png       90         93   \n",
      "\n",
      "                  Club  ... Composure Marking StandingTackle  SlidingTackle  \\\n",
      "0         FC Barcelona  ...      96.0    33.0           28.0           26.0   \n",
      "1             Juventus  ...      95.0    28.0           31.0           23.0   \n",
      "2  Paris Saint-Germain  ...      94.0    27.0           24.0           33.0   \n",
      "3    Manchester United  ...      68.0    15.0           21.0           13.0   \n",
      "4      Manchester City  ...      88.0    68.0           58.0           51.0   \n",
      "5              Chelsea  ...      91.0    34.0           27.0           22.0   \n",
      "6          Real Madrid  ...      84.0    60.0           76.0           73.0   \n",
      "7         FC Barcelona  ...      85.0    62.0           45.0           38.0   \n",
      "8          Real Madrid  ...      82.0    87.0           92.0           91.0   \n",
      "9      Atlético Madrid  ...      70.0    27.0           12.0           18.0   \n",
      "\n",
      "  GKDiving  GKHandling  GKKicking  GKPositioning GKReflexes Release Clause  \n",
      "0      6.0        11.0       15.0           14.0        8.0        €226.5M  \n",
      "1      7.0        11.0       15.0           14.0       11.0        €127.1M  \n",
      "2      9.0         9.0       15.0           15.0       11.0        €228.1M  \n",
      "3     90.0        85.0       87.0           88.0       94.0        €138.6M  \n",
      "4     15.0        13.0        5.0           10.0       13.0        €196.4M  \n",
      "5     11.0        12.0        6.0            8.0        8.0        €172.1M  \n",
      "6     13.0         9.0        7.0           14.0        9.0        €137.4M  \n",
      "7     27.0        25.0       31.0           33.0       37.0          €164M  \n",
      "8     11.0         8.0        9.0            7.0       11.0        €104.6M  \n",
      "9     86.0        92.0       78.0           88.0       89.0        €144.5M  \n",
      "\n",
      "[10 rows x 89 columns]\n"
     ]
    }
   ],
   "source": [
    "print(fifa_df.head(10))"
   ]
  },
  {
   "cell_type": "code",
   "execution_count": 47,
   "metadata": {},
   "outputs": [
    {
     "name": "stdout",
     "output_type": "stream",
     "text": [
      "Index(['Unnamed: 0', 'ID', 'Name', 'Age', 'Photo', 'Nationality', 'Flag',\n",
      "       'Overall', 'Potential', 'Club', 'Club Logo', 'Value', 'Wage', 'Special',\n",
      "       'Preferred Foot', 'International Reputation', 'Weak Foot',\n",
      "       'Skill Moves', 'Work Rate', 'Body Type', 'Real Face', 'Position',\n",
      "       'Jersey Number', 'Joined', 'Loaned From', 'Contract Valid Until',\n",
      "       'Height', 'Weight', 'LS', 'ST', 'RS', 'LW', 'LF', 'CF', 'RF', 'RW',\n",
      "       'LAM', 'CAM', 'RAM', 'LM', 'LCM', 'CM', 'RCM', 'RM', 'LWB', 'LDM',\n",
      "       'CDM', 'RDM', 'RWB', 'LB', 'LCB', 'CB', 'RCB', 'RB', 'Crossing',\n",
      "       'Finishing', 'HeadingAccuracy', 'ShortPassing', 'Volleys', 'Dribbling',\n",
      "       'Curve', 'FKAccuracy', 'LongPassing', 'BallControl', 'Acceleration',\n",
      "       'SprintSpeed', 'Agility', 'Reactions', 'Balance', 'ShotPower',\n",
      "       'Jumping', 'Stamina', 'Strength', 'LongShots', 'Aggression',\n",
      "       'Interceptions', 'Positioning', 'Vision', 'Penalties', 'Composure',\n",
      "       'Marking', 'StandingTackle', 'SlidingTackle', 'GKDiving', 'GKHandling',\n",
      "       'GKKicking', 'GKPositioning', 'GKReflexes', 'Release Clause'],\n",
      "      dtype='object')\n"
     ]
    }
   ],
   "source": [
    "print(fifa_df.columns)"
   ]
  },
  {
   "cell_type": "code",
   "execution_count": 48,
   "metadata": {},
   "outputs": [],
   "source": [
    "features = ['Acceleration','SprintSpeed','Agility', 'Stamina','Strength', 'Height', 'Finishing']\n",
    "target = 'Value'"
   ]
  },
  {
   "cell_type": "code",
   "execution_count": 49,
   "metadata": {},
   "outputs": [
    {
     "name": "stdout",
     "output_type": "stream",
     "text": [
      "0         5'7\n",
      "1         6'2\n",
      "2         5'9\n",
      "3         6'4\n",
      "4        5'11\n",
      "         ... \n",
      "18202     5'9\n",
      "18203     6'3\n",
      "18204     5'8\n",
      "18205    5'10\n",
      "18206    5'10\n",
      "Name: Height, Length: 18159, dtype: object\n",
      "0        67\n",
      "1        74\n",
      "2        69\n",
      "3        76\n",
      "4        71\n",
      "         ..\n",
      "18202    69\n",
      "18203    75\n",
      "18204    68\n",
      "18205    70\n",
      "18206    70\n",
      "Name: Height, Length: 18159, dtype: int64\n",
      "0        159lbs\n",
      "1        183lbs\n",
      "2        150lbs\n",
      "3        168lbs\n",
      "4        154lbs\n",
      "          ...  \n",
      "18202    134lbs\n",
      "18203    170lbs\n",
      "18204    148lbs\n",
      "18205    154lbs\n",
      "18206    176lbs\n",
      "Name: Weight, Length: 18159, dtype: object\n",
      "0        159\n",
      "1        183\n",
      "2        150\n",
      "3        168\n",
      "4        154\n",
      "        ... \n",
      "18202    134\n",
      "18203    170\n",
      "18204    148\n",
      "18205    154\n",
      "18206    176\n",
      "Name: Weight, Length: 18159, dtype: int64\n",
      "0        €110.5M\n",
      "1           €77M\n",
      "2        €118.5M\n",
      "3           €72M\n",
      "4          €102M\n",
      "          ...   \n",
      "18202       €60K\n",
      "18203       €60K\n",
      "18204       €60K\n",
      "18205       €60K\n",
      "18206       €60K\n",
      "Name: Value, Length: 18159, dtype: object\n",
      "0        110500000.0\n",
      "1         77000000.0\n",
      "2        118500000.0\n",
      "3         72000000.0\n",
      "4        102000000.0\n",
      "            ...     \n",
      "18202           60.0\n",
      "18203           60.0\n",
      "18204           60.0\n",
      "18205           60.0\n",
      "18206           60.0\n",
      "Name: Value, Length: 18159, dtype: float64\n"
     ]
    }
   ],
   "source": [
    "'''\n",
    "Helper Functions to clean the data:\n",
    "'''\n",
    "def height_to_inches(h):\n",
    "  if type(h) is str:\n",
    "    hsplit = h.split(\"'\")   # splits a string like 5'7 and returns the total inches\n",
    "    feet = int(hsplit[0])\n",
    "    inches = int(hsplit[1])\n",
    "    return feet*12 + inches\n",
    "  else:\n",
    "    return h\n",
    "\n",
    "def clean_weight(w):\n",
    "  if type(w) is str:\n",
    "    wnew = int(w.replace(\"lbs\",\"\"))\n",
    "    return wnew\n",
    "  else:\n",
    "    return w\n",
    "\n",
    "def clean_price(c):\n",
    "  if type(c) is str:\n",
    "    ismillion = False\n",
    "    if \"M\" in c:\n",
    "      ismillion = True\n",
    "    cnew = float(c.replace(\"€\", \"\").replace(\"M\", \"\").replace(\"K\", \"\"))\n",
    "    if ismillion:\n",
    "      cnew *= 1000000\n",
    "    return cnew\n",
    "  else:\n",
    "    return c\n",
    "\n",
    "# Actually clean up the dataset:\n",
    "\n",
    "all_cols = [i for i in features]\n",
    "all_cols.append(target)\n",
    "cols_to_keep = [not i for i in fifa_df[all_cols].isna().any(axis=1)]\n",
    "fifa_df = fifa_df[cols_to_keep]\n",
    "\n",
    "print(fifa_df['Height'])\n",
    "fifa_df['Height'] = fifa_df['Height'].apply(height_to_inches)\n",
    "fifa_df['Height'].astype('int')\n",
    "print(fifa_df['Height'])\n",
    "\n",
    "print(fifa_df['Weight'])\n",
    "fifa_df['Weight'] = fifa_df['Weight'].apply(clean_weight)\n",
    "fifa_df['Weight'].astype('int')\n",
    "print(fifa_df['Weight'])\n",
    "\n",
    "# Ive commented these out as per the description from the code where we set\n",
    "# the features above\n",
    "'''\n",
    "print(fifa_df['Value'])\n",
    "fifa_df['Value'] = fifa_df['Value'].apply(clean_price)\n",
    "fifa_df['Value'].astype('int')\n",
    "print(fifa_df['Value'])\n",
    "\n",
    "print(fifa_df['Release Clause'])\n",
    "fifa_df['Release Clause'] = fifa_df['Release Clause'].apply(clean_price)\n",
    "fifa_df['Release Clause'].astype('int')\n",
    "print(fifa_df['Release Clause'])\n",
    "'''\n",
    "\n",
    "# Applying cleanup to the target as well\n",
    "print(fifa_df['Value'])\n",
    "fifa_df['Value'] = fifa_df['Value'].apply(clean_price)\n",
    "fifa_df['Value'].astype('int')\n",
    "print(fifa_df['Value'])"
   ]
  },
  {
   "cell_type": "code",
   "execution_count": 50,
   "metadata": {},
   "outputs": [
    {
     "data": {
      "text/plain": [
       "<matplotlib.axes._subplots.AxesSubplot at 0x26611e7fdc8>"
      ]
     },
     "execution_count": 50,
     "metadata": {},
     "output_type": "execute_result"
    },
    {
     "data": {
      "image/png": "[encoded data removed]",
      "text/plain": [
       "<Figure size 960x640 with 1 Axes>"
      ]
     },
     "metadata": {},
     "output_type": "display_data"
    }
   ],
   "source": [
    "figure(num=None, figsize=(12, 8), dpi=80, facecolor='w', edgecolor='k')\n",
    "X = fifa_df[features]\n",
    "sns.boxplot(x=\"variable\", y=\"value\", data=pd.melt(X))"
   ]
  },
  {
   "cell_type": "code",
   "execution_count": 51,
   "metadata": {},
   "outputs": [],
   "source": [
    "fifa_df = fifa_df[fifa_df['Position'].str.contains('ST', na = False)]"
   ]
  },
  {
   "cell_type": "code",
   "execution_count": 52,
   "metadata": {},
   "outputs": [
    {
     "data": {
      "text/plain": [
       "<matplotlib.axes._subplots.AxesSubplot at 0x26612452208>"
      ]
     },
     "execution_count": 52,
     "metadata": {},
     "output_type": "execute_result"
    },
    {
     "data": {
      "image/png": "[encoded data removed]",
      "text/plain": [
       "<Figure size 960x640 with 1 Axes>"
      ]
     },
     "metadata": {},
     "output_type": "display_data"
    }
   ],
   "source": [
    "figure(num=None, figsize=(12, 8), dpi=80, facecolor='w', edgecolor='k')\n",
    "X = fifa_df[features]\n",
    "sns.boxplot(x=\"variable\", y=\"value\", data=pd.melt(X))"
   ]
  },
  {
   "cell_type": "code",
   "execution_count": 159,
   "metadata": {},
   "outputs": [],
   "source": [
    "fifa_df = fifa_df[fifa_df['SprintSpeed'] > 80]\n",
    "fifa_df = fifa_df[fifa_df['Acceleration'] > 80]\n",
    "fifa_df = fifa_df[fifa_df['Strength'] > 70]\n",
    "fifa_df = fifa_df[fifa_df['Value'] < 50000000]\n",
    "fifa_df = fifa_df[fifa_df['Finishing'] > 70]\n",
    "X = fifa_df[features]\n",
    "Y = fifa_df[target]"
   ]
  },
  {
   "cell_type": "code",
   "execution_count": 195,
   "metadata": {},
   "outputs": [],
   "source": [
    "x = fifa_df['Finishing']\n",
    "y = fifa_df['Overall']"
   ]
  },
  {
   "cell_type": "code",
   "execution_count": 161,
   "metadata": {},
   "outputs": [
    {
     "name": "stdout",
     "output_type": "stream",
     "text": [
      "                            OLS Regression Results                            \n",
      "==============================================================================\n",
      "Dep. Variable:                Overall   R-squared:                       0.632\n",
      "Model:                            OLS   Adj. R-squared:                  0.617\n",
      "Method:                 Least Squares   F-statistic:                     42.93\n",
      "Date:                Mon, 24 Feb 2020   Prob (F-statistic):           7.29e-07\n",
      "Time:                        01:01:41   Log-Likelihood:                -61.006\n",
      "No. Observations:                  27   AIC:                             126.0\n",
      "Df Residuals:                      25   BIC:                             128.6\n",
      "Df Model:                           1                                         \n",
      "Covariance Type:            nonrobust                                         \n",
      "==============================================================================\n",
      "                 coef    std err          t      P>|t|      [0.025      0.975]\n",
      "------------------------------------------------------------------------------\n",
      "const         20.4074      8.678      2.352      0.027       2.535      38.280\n",
      "Finishing      0.7310      0.112      6.552      0.000       0.501       0.961\n",
      "==============================================================================\n",
      "Omnibus:                        3.990   Durbin-Watson:                   1.253\n",
      "Prob(Omnibus):                  0.136   Jarque-Bera (JB):                2.344\n",
      "Skew:                           0.624   Prob(JB):                        0.310\n",
      "Kurtosis:                       3.724   Cond. No.                     1.46e+03\n",
      "==============================================================================\n",
      "\n",
      "Warnings:\n",
      "[1] Standard Errors assume that the covariance matrix of the errors is correctly specified.\n",
      "[2] The condition number is large, 1.46e+03. This might indicate that there are\n",
      "strong multicollinearity or other numerical problems.\n"
     ]
    }
   ],
   "source": [
    "x = sm.add_constant(x)\n",
    "model = sm.OLS(y, x)\n",
    "results = model.fit()\n",
    "print(results.summary())"
   ]
  },
  {
   "cell_type": "code",
   "execution_count": 197,
   "metadata": {},
   "outputs": [
    {
     "data": {
      "text/plain": [
       "<matplotlib.axes._subplots.AxesSubplot at 0x2661539dfc8>"
      ]
     },
     "execution_count": 197,
     "metadata": {},
     "output_type": "execute_result"
    },
    {
     "data": {
      "image/png": "[encoded data removed]",
      "text/plain": [
       "<Figure size 960x640 with 1 Axes>"
      ]
     },
     "metadata": {},
     "output_type": "display_data"
    }
   ],
   "source": [
    "figure(num=None, figsize=(12, 8), dpi=80, facecolor='w', edgecolor='k')\n",
    "sns.regplot(x, y, color='blue', scatter_kws={'alpha':0.3})"
   ]
  },
  {
   "cell_type": "code",
   "execution_count": 162,
   "metadata": {},
   "outputs": [
    {
     "name": "stdout",
     "output_type": "stream",
     "text": [
      "Residuals: \n",
      "87      0.260690\n",
      "124     5.840089\n",
      "193     5.571133\n",
      "268     0.184867\n",
      "381    -0.815133\n",
      "430     0.378000\n",
      "479     2.571133\n",
      "518     1.109045\n",
      "560     0.840089\n",
      "561    -1.353044\n",
      "653    -2.084088\n",
      "1022    1.033222\n",
      "1216    2.226355\n",
      "1226   -1.428867\n",
      "1237    0.764266\n",
      "1347    0.764266\n",
      "1386    0.033222\n",
      "1404    0.764266\n",
      "1507   -4.353044\n",
      "2023    1.226355\n",
      "2029   -2.428867\n",
      "2253   -1.966778\n",
      "2936   -0.773645\n",
      "3210   -0.773645\n",
      "3665   -1.042601\n",
      "4519   -2.773645\n",
      "5523   -3.773645\n",
      "dtype: float64\n",
      "\n",
      "\n"
     ]
    },
    {
     "data": {
      "text/plain": [
       "<matplotlib.lines.Line2D at 0x26612c7eac8>"
      ]
     },
     "execution_count": 162,
     "metadata": {},
     "output_type": "execute_result"
    },
    {
     "data": {
      "image/png": "[encoded data removed]",
      "text/plain": [
       "<Figure size 1440x720 with 1 Axes>"
      ]
     },
     "metadata": {},
     "output_type": "display_data"
    }
   ],
   "source": [
    "residuals = results.resid\n",
    "print('Residuals: \\n' + str(residuals) + '\\n\\n')\n",
    "\n",
    "fig, ax = plt.subplots(figsize=(20,10))\n",
    "plt.scatter(fifa_df['Overall'], residuals, color='red', alpha=0.5)\n",
    "plt.xlabel('Overall')\n",
    "plt.ylabel('Residuals')\n",
    "plt.axhline(y=0, color='b', linestyle='-')"
   ]
  },
  {
   "cell_type": "code",
   "execution_count": null,
   "metadata": {},
   "outputs": [],
   "source": [
    "#Code Block, what other variables could predict overall?"
   ]
  },
  {
   "cell_type": "code",
   "execution_count": 163,
   "metadata": {},
   "outputs": [
    {
     "name": "stdout",
     "output_type": "stream",
     "text": [
      "                                 OLS Regression Results                                \n",
      "=======================================================================================\n",
      "Dep. Variable:                  Value   R-squared (uncentered):                   0.832\n",
      "Model:                            OLS   Adj. R-squared (uncentered):              0.774\n",
      "Method:                 Least Squares   F-statistic:                              14.18\n",
      "Date:                Mon, 24 Feb 2020   Prob (F-statistic):                    1.65e-06\n",
      "Time:                        01:01:48   Log-Likelihood:                         -464.95\n",
      "No. Observations:                  27   AIC:                                      943.9\n",
      "Df Residuals:                      20   BIC:                                      953.0\n",
      "Df Model:                           7                                                  \n",
      "Covariance Type:            nonrobust                                                  \n",
      "================================================================================\n",
      "                   coef    std err          t      P>|t|      [0.025      0.975]\n",
      "--------------------------------------------------------------------------------\n",
      "Acceleration -7.168e+05   6.95e+05     -1.032      0.314   -2.17e+06    7.32e+05\n",
      "SprintSpeed    3.15e+05   7.17e+05      0.440      0.665   -1.18e+06    1.81e+06\n",
      "Agility      -9.481e+04   3.56e+05     -0.267      0.793   -8.37e+05    6.47e+05\n",
      "Stamina       2.257e+05    2.5e+05      0.903      0.377   -2.96e+05    7.47e+05\n",
      "Strength     -1.087e+05   5.02e+05     -0.217      0.831   -1.16e+06    9.38e+05\n",
      "Height       -1.098e+06   7.01e+05     -1.567      0.133   -2.56e+06    3.64e+05\n",
      "Finishing      1.61e+06   4.27e+05      3.770      0.001    7.19e+05     2.5e+06\n",
      "==============================================================================\n",
      "Omnibus:                       17.475   Durbin-Watson:                   0.982\n",
      "Prob(Omnibus):                  0.000   Jarque-Bera (JB):               20.930\n",
      "Skew:                           1.563   Prob(JB):                     2.85e-05\n",
      "Kurtosis:                       5.971   Cond. No.                         117.\n",
      "==============================================================================\n",
      "\n",
      "Warnings:\n",
      "[1] Standard Errors assume that the covariance matrix of the errors is correctly specified.\n"
     ]
    }
   ],
   "source": [
    "model = sm.OLS(Y, X)\n",
    "results = model.fit()\n",
    "print(results.summary())"
   ]
  },
  {
   "cell_type": "code",
   "execution_count": 164,
   "metadata": {},
   "outputs": [
    {
     "name": "stdout",
     "output_type": "stream",
     "text": [
      "Residuals: \n",
      "87      8.787345e+06\n",
      "124     2.411410e+07\n",
      "193     1.652026e+07\n",
      "268     3.132396e+06\n",
      "381    -6.809611e+05\n",
      "430    -1.276193e+06\n",
      "479     2.388526e+06\n",
      "518    -1.387360e+06\n",
      "560    -5.158239e+05\n",
      "561    -5.770491e+06\n",
      "653    -6.984291e+06\n",
      "1022   -1.676520e+06\n",
      "1216    4.166309e+06\n",
      "1226   -1.120645e+07\n",
      "1237   -3.144348e+04\n",
      "1347    1.245129e+05\n",
      "1386   -1.357433e+06\n",
      "1404   -2.696954e+06\n",
      "1507   -9.948175e+06\n",
      "2023   -1.316991e+06\n",
      "2029   -5.647523e+06\n",
      "2253   -4.331384e+06\n",
      "2936    6.755291e+06\n",
      "3210   -4.923120e+06\n",
      "3665   -3.221797e+05\n",
      "4519   -2.474266e+06\n",
      "5523   -4.159347e+06\n",
      "dtype: float64\n",
      "\n",
      "\n"
     ]
    },
    {
     "data": {
      "text/plain": [
       "<matplotlib.lines.Line2D at 0x26613239588>"
      ]
     },
     "execution_count": 164,
     "metadata": {},
     "output_type": "execute_result"
    },
    {
     "data": {
      "image/png": "[encoded data removed]",
      "text/plain": [
       "<Figure size 1440x720 with 1 Axes>"
      ]
     },
     "metadata": {},
     "output_type": "display_data"
    }
   ],
   "source": [
    "residuals = results.resid\n",
    "print('Residuals: \\n' + str(residuals) + '\\n\\n')\n",
    "\n",
    "fig, ax = plt.subplots(figsize=(20,10))\n",
    "plt.scatter(fifa_df['Value'], residuals, color='red', alpha=0.5)\n",
    "plt.xlabel('Value')\n",
    "plt.ylabel('Residuals')\n",
    "plt.axhline(y=0, color='b', linestyle='-')"
   ]
  },
  {
   "cell_type": "code",
   "execution_count": 165,
   "metadata": {},
   "outputs": [],
   "source": [
    "residuals = pd.DataFrame(data = residuals)\n",
    "residuals = residuals[residuals < -500000]"
   ]
  },
  {
   "cell_type": "code",
   "execution_count": 166,
   "metadata": {},
   "outputs": [
    {
     "data": {
      "text/html": [
       "<div>\n",
       "<style scoped>\n",
       "    .dataframe tbody tr th:only-of-type {\n",
       "        vertical-align: middle;\n",
       "    }\n",
       "\n",
       "    .dataframe tbody tr th {\n",
       "        vertical-align: top;\n",
       "    }\n",
       "\n",
       "    .dataframe thead th {\n",
       "        text-align: right;\n",
       "    }\n",
       "</style>\n",
       "<table border=\"1\" class=\"dataframe\">\n",
       "  <thead>\n",
       "    <tr style=\"text-align: right;\">\n",
       "      <th></th>\n",
       "      <th>0</th>\n",
       "    </tr>\n",
       "  </thead>\n",
       "  <tbody>\n",
       "    <tr>\n",
       "      <td>381</td>\n",
       "      <td>-6.809611e+05</td>\n",
       "    </tr>\n",
       "    <tr>\n",
       "      <td>430</td>\n",
       "      <td>-1.276193e+06</td>\n",
       "    </tr>\n",
       "    <tr>\n",
       "      <td>518</td>\n",
       "      <td>-1.387360e+06</td>\n",
       "    </tr>\n",
       "    <tr>\n",
       "      <td>560</td>\n",
       "      <td>-5.158239e+05</td>\n",
       "    </tr>\n",
       "    <tr>\n",
       "      <td>561</td>\n",
       "      <td>-5.770491e+06</td>\n",
       "    </tr>\n",
       "    <tr>\n",
       "      <td>653</td>\n",
       "      <td>-6.984291e+06</td>\n",
       "    </tr>\n",
       "    <tr>\n",
       "      <td>1022</td>\n",
       "      <td>-1.676520e+06</td>\n",
       "    </tr>\n",
       "    <tr>\n",
       "      <td>1226</td>\n",
       "      <td>-1.120645e+07</td>\n",
       "    </tr>\n",
       "    <tr>\n",
       "      <td>1386</td>\n",
       "      <td>-1.357433e+06</td>\n",
       "    </tr>\n",
       "    <tr>\n",
       "      <td>1404</td>\n",
       "      <td>-2.696954e+06</td>\n",
       "    </tr>\n",
       "    <tr>\n",
       "      <td>1507</td>\n",
       "      <td>-9.948175e+06</td>\n",
       "    </tr>\n",
       "    <tr>\n",
       "      <td>2023</td>\n",
       "      <td>-1.316991e+06</td>\n",
       "    </tr>\n",
       "    <tr>\n",
       "      <td>2029</td>\n",
       "      <td>-5.647523e+06</td>\n",
       "    </tr>\n",
       "    <tr>\n",
       "      <td>2253</td>\n",
       "      <td>-4.331384e+06</td>\n",
       "    </tr>\n",
       "    <tr>\n",
       "      <td>3210</td>\n",
       "      <td>-4.923120e+06</td>\n",
       "    </tr>\n",
       "    <tr>\n",
       "      <td>4519</td>\n",
       "      <td>-2.474266e+06</td>\n",
       "    </tr>\n",
       "    <tr>\n",
       "      <td>5523</td>\n",
       "      <td>-4.159347e+06</td>\n",
       "    </tr>\n",
       "  </tbody>\n",
       "</table>\n",
       "</div>"
      ],
      "text/plain": [
       "                 0\n",
       "381  -6.809611e+05\n",
       "430  -1.276193e+06\n",
       "518  -1.387360e+06\n",
       "560  -5.158239e+05\n",
       "561  -5.770491e+06\n",
       "653  -6.984291e+06\n",
       "1022 -1.676520e+06\n",
       "1226 -1.120645e+07\n",
       "1386 -1.357433e+06\n",
       "1404 -2.696954e+06\n",
       "1507 -9.948175e+06\n",
       "2023 -1.316991e+06\n",
       "2029 -5.647523e+06\n",
       "2253 -4.331384e+06\n",
       "3210 -4.923120e+06\n",
       "4519 -2.474266e+06\n",
       "5523 -4.159347e+06"
      ]
     },
     "execution_count": 166,
     "metadata": {},
     "output_type": "execute_result"
    }
   ],
   "source": [
    "m = residuals.dropna()\n",
    "m"
   ]
  },
  {
   "cell_type": "code",
   "execution_count": 167,
   "metadata": {},
   "outputs": [],
   "source": [
    "#fifa_df = fifa_df[fifa_df.Position.dropna()]\n",
    "m = m.drop([0], axis = 1)"
   ]
  },
  {
   "cell_type": "markdown",
   "metadata": {},
   "source": [
    "NEED HELP HERE, trying to go to return all players that are 'undervalued' below, but can't seem to get the values from m to match the values in Unnamed 0: , basically im running player = fifa_df[fifa_df['Unnamed: 0'].isin(m)] and it isn't working"
   ]
  },
  {
   "cell_type": "code",
   "execution_count": 168,
   "metadata": {},
   "outputs": [
    {
     "data": {
      "text/html": [
       "<div>\n",
       "<style scoped>\n",
       "    .dataframe tbody tr th:only-of-type {\n",
       "        vertical-align: middle;\n",
       "    }\n",
       "\n",
       "    .dataframe tbody tr th {\n",
       "        vertical-align: top;\n",
       "    }\n",
       "\n",
       "    .dataframe thead th {\n",
       "        text-align: right;\n",
       "    }\n",
       "</style>\n",
       "<table border=\"1\" class=\"dataframe\">\n",
       "  <thead>\n",
       "    <tr style=\"text-align: right;\">\n",
       "      <th></th>\n",
       "    </tr>\n",
       "  </thead>\n",
       "  <tbody>\n",
       "    <tr>\n",
       "      <td>381</td>\n",
       "    </tr>\n",
       "    <tr>\n",
       "      <td>430</td>\n",
       "    </tr>\n",
       "    <tr>\n",
       "      <td>518</td>\n",
       "    </tr>\n",
       "    <tr>\n",
       "      <td>560</td>\n",
       "    </tr>\n",
       "    <tr>\n",
       "      <td>561</td>\n",
       "    </tr>\n",
       "    <tr>\n",
       "      <td>653</td>\n",
       "    </tr>\n",
       "    <tr>\n",
       "      <td>1022</td>\n",
       "    </tr>\n",
       "    <tr>\n",
       "      <td>1226</td>\n",
       "    </tr>\n",
       "    <tr>\n",
       "      <td>1386</td>\n",
       "    </tr>\n",
       "    <tr>\n",
       "      <td>1404</td>\n",
       "    </tr>\n",
       "    <tr>\n",
       "      <td>1507</td>\n",
       "    </tr>\n",
       "    <tr>\n",
       "      <td>2023</td>\n",
       "    </tr>\n",
       "    <tr>\n",
       "      <td>2029</td>\n",
       "    </tr>\n",
       "    <tr>\n",
       "      <td>2253</td>\n",
       "    </tr>\n",
       "    <tr>\n",
       "      <td>3210</td>\n",
       "    </tr>\n",
       "    <tr>\n",
       "      <td>4519</td>\n",
       "    </tr>\n",
       "    <tr>\n",
       "      <td>5523</td>\n",
       "    </tr>\n",
       "  </tbody>\n",
       "</table>\n",
       "</div>"
      ],
      "text/plain": [
       "Empty DataFrame\n",
       "Columns: []\n",
       "Index: [381, 430, 518, 560, 561, 653, 1022, 1226, 1386, 1404, 1507, 2023, 2029, 2253, 3210, 4519, 5523]"
      ]
     },
     "execution_count": 168,
     "metadata": {},
     "output_type": "execute_result"
    }
   ],
   "source": [
    "m"
   ]
  },
  {
   "cell_type": "code",
   "execution_count": 190,
   "metadata": {},
   "outputs": [],
   "source": [
    "player = fifa_df[fifa_df['Unnamed: 0']==381]"
   ]
  },
  {
   "cell_type": "code",
   "execution_count": 192,
   "metadata": {},
   "outputs": [
    {
     "data": {
      "text/plain": [
       "381    18500000.0\n",
       "Name: Value, dtype: float64"
      ]
     },
     "execution_count": 192,
     "metadata": {},
     "output_type": "execute_result"
    }
   ],
   "source": [
    "player['Value']"
   ]
  }
 ],
 "metadata": {
  "kernelspec": {
   "display_name": "Python 3",
   "language": "python",
   "name": "python3"
  },
  "language_info": {
   "codemirror_mode": {
    "name": "ipython",
    "version": 3
   },
   "file_extension": ".py",
   "mimetype": "text/x-python",
   "name": "python",
   "nbconvert_exporter": "python",
   "pygments_lexer": "ipython3",
   "version": "3.7.4"
  }
 },
 "nbformat": 4,
 "nbformat_minor": 2
}
