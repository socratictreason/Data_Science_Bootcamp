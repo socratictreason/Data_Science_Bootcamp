{
 "cells": [
  {
   "cell_type": "markdown",
   "metadata": {},
   "source": [
    "A <b>library</b> (or also called a <b>module</b>)  is a collection of code that was created for a specific purpose and is made to be reused by other people.\n",
    "<br>\n",
    "<b>pandas</b>- Excel in Python with more stuff\n",
    "<br>\n",
    "<b>matplotlib</b>- A way to plot and visualize data.\n",
    "<br>\n",
    "<b>pyplot</b>- A part of matplotlib containing a lot of the plotting functionality."
   ]
  },
  {
   "cell_type": "code",
   "execution_count": 15,
   "metadata": {},
   "outputs": [],
   "source": [
    "import pandas as pd\n",
    "import matplotlib.pyplot as plt"
   ]
  },
  {
   "cell_type": "markdown",
   "metadata": {},
   "source": [
    "<b>variable</b>- An arbitrary symbol that substitutes for data\n",
    "<br>\n",
    "<br>\n",
    "Rules for variable names in python:\n",
    "1. Keep them lowercase unless you absolutely can't\n",
    "2. Must be one word\n",
    "3. consist solely of letters, numbers, and underscores (but can't start with a number)"
   ]
  },
  {
   "cell_type": "code",
   "execution_count": 5,
   "metadata": {},
   "outputs": [],
   "source": [
    "x = 3"
   ]
  },
  {
   "cell_type": "markdown",
   "metadata": {},
   "source": [
    "<b>function</b>- takes stuff in, does operations using the stuff, and then spits something out.\n",
    "<br>\n",
    "<b>argument</b>- something you pass into a function. In the below case, x is an argument to the <i>print</i> function."
   ]
  },
  {
   "cell_type": "code",
   "execution_count": 7,
   "metadata": {},
   "outputs": [
    {
     "name": "stdout",
     "output_type": "stream",
     "text": [
      "3\n"
     ]
    }
   ],
   "source": [
    "print(x)"
   ]
  },
  {
   "cell_type": "markdown",
   "metadata": {},
   "source": [
    "Here, <i>print</i> is getting 2 arguments: \"The number for x is: \" and x\n",
    "<br>\n",
    "<i>print</i> will print out its arguments in sequential order"
   ]
  },
  {
   "cell_type": "code",
   "execution_count": 8,
   "metadata": {},
   "outputs": [
    {
     "name": "stdout",
     "output_type": "stream",
     "text": [
      "The number for x is:  3\n"
     ]
    }
   ],
   "source": [
    "print(\"The number for x is: \", x)"
   ]
  },
  {
   "cell_type": "markdown",
   "metadata": {},
   "source": [
    "Python and many programming languages use <b>objects</b>. An <b>object</b> is a way of encapsulating data.\n",
    "<br>\n",
    "A <b>DataFrame</b> is an object from the pandas library that works in similar ways to an Excel spreadsheet and can be manipulated through code."
   ]
  },
  {
   "cell_type": "code",
   "execution_count": 9,
   "metadata": {},
   "outputs": [],
   "source": [
    "df = pd.DataFrame()"
   ]
  },
  {
   "cell_type": "markdown",
   "metadata": {},
   "source": [
    "Notice below that when we print objects, they often have a particular way of being printed out. This is predefined in the code of the object itself.\n",
    "<br>\n",
    "Here, we see that when we have an empty DataFrame, printing it will tell us that we have an empty DataFrame with empty columns and indices."
   ]
  },
  {
   "cell_type": "code",
   "execution_count": 10,
   "metadata": {},
   "outputs": [
    {
     "name": "stdout",
     "output_type": "stream",
     "text": [
      "Empty DataFrame\n",
      "Columns: []\n",
      "Index: []\n"
     ]
    }
   ],
   "source": [
    "print(df)"
   ]
  },
  {
   "cell_type": "markdown",
   "metadata": {},
   "source": [
    "Now we create a DataFrame out of some data. Our data has 3 rows and 3 columns."
   ]
  },
  {
   "cell_type": "code",
   "execution_count": 11,
   "metadata": {},
   "outputs": [],
   "source": [
    "df = pd.DataFrame([[1,2,3],[4,5,6],[7,8,9]])"
   ]
  },
  {
   "cell_type": "markdown",
   "metadata": {},
   "source": [
    "When a DataFrame has data in it, it prints out as a table with indices of rows on the far left column and indices of columns on the top row."
   ]
  },
  {
   "cell_type": "code",
   "execution_count": 12,
   "metadata": {},
   "outputs": [
    {
     "name": "stdout",
     "output_type": "stream",
     "text": [
      "   0  1  2\n",
      "0  1  2  3\n",
      "1  4  5  6\n",
      "2  7  8  9\n"
     ]
    }
   ],
   "source": [
    "print(df)"
   ]
  },
  {
   "cell_type": "markdown",
   "metadata": {},
   "source": [
    "Here we are going to plot some data. \n",
    "<br>\n",
    "We will first define our x axis, and then we define the corresponding y values."
   ]
  },
  {
   "cell_type": "code",
   "execution_count": 17,
   "metadata": {},
   "outputs": [],
   "source": [
    "x = [1,2,3,4]\n",
    "y = [5,94,2423,89]"
   ]
  },
  {
   "cell_type": "markdown",
   "metadata": {},
   "source": [
    "Here we use pyplot's <i>plot</i> function and plug in 2 arguments: the x values and the y values.\n",
    "<br>\n",
    "Finally, we have to actually <i>show</i> the plot we created. Otherwise pyplot will not display it."
   ]
  },
  {
   "cell_type": "code",
   "execution_count": 18,
   "metadata": {},
   "outputs": [
    {
     "data": {
      "image/png": "[encoded data removed]",
      "text/plain": [
       "<Figure size 432x288 with 1 Axes>"
      ]
     },
     "metadata": {
      "needs_background": "light"
     },
     "output_type": "display_data"
    }
   ],
   "source": [
    "plt.plot(x,y)\n",
    "plt.show()"
   ]
  },
  {
   "cell_type": "code",
   "execution_count": null,
   "metadata": {},
   "outputs": [],
   "source": []
  }
 ],
 "metadata": {
  "kernelspec": {
   "display_name": "Python 3",
   "language": "python",
   "name": "python3"
  },
  "language_info": {
   "codemirror_mode": {
    "name": "ipython",
    "version": 3
   },
   "file_extension": ".py",
   "mimetype": "text/x-python",
   "name": "python",
   "nbconvert_exporter": "python",
   "pygments_lexer": "ipython3",
   "version": "3.7.3"
  }
 },
 "nbformat": 4,
 "nbformat_minor": 2
}
